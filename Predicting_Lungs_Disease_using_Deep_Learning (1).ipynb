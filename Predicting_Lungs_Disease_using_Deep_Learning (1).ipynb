{
  "nbformat": 4,
  "nbformat_minor": 5,
  "metadata": {
    "kernelspec": {
      "display_name": "Python 3",
      "language": "python",
      "name": "python3"
    },
    "language_info": {
      "codemirror_mode": {
        "name": "ipython",
        "version": 3
      },
      "file_extension": ".py",
      "mimetype": "text/x-python",
      "name": "python",
      "nbconvert_exporter": "python",
      "pygments_lexer": "ipython3",
      "version": "3.8.5"
    },
    "colab": {
      "name": "Predicting Lungs Disease using Deep Learning.ipynb",
      "provenance": [],
      "collapsed_sections": []
    },
    "accelerator": "GPU"
  },
  "cells": [
    {
      "cell_type": "markdown",
      "metadata": {
        "id": "fossil-zimbabwe"
      },
      "source": [
        "# Transfer Learning VGG16 and VGG19 using Keras"
      ],
      "id": "fossil-zimbabwe"
    },
    {
      "cell_type": "code",
      "metadata": {
        "colab": {
          "base_uri": "https://localhost:8080/"
        },
        "id": "I5WlO9gdgLFj",
        "outputId": "a7395379-e811-4089-b39c-0370f0e6decd"
      },
      "source": [
        "from google.colab import drive\n",
        "drive.mount('/content/drive')"
      ],
      "id": "I5WlO9gdgLFj",
      "execution_count": null,
      "outputs": [
        {
          "output_type": "stream",
          "text": [
            "Mounted at /content/drive\n"
          ],
          "name": "stdout"
        }
      ]
    },
    {
      "cell_type": "code",
      "metadata": {
        "id": "optional-mistress"
      },
      "source": [
        "import numpy as np\n",
        "import pandas as pd\n",
        "import matplotlib.pyplot as plt\n",
        "\n",
        "from keras.layers import Input, Lambda, Dense, Flatten, Dropout\n",
        "from keras.models import Model, Sequential\n",
        "\n",
        "from keras.applications.vgg16 import VGG16\n",
        "from keras.applications.vgg19 import VGG19\n",
        "from keras.applications.inception_v3 import InceptionV3\n",
        "\n",
        "from keras.applications.vgg16 import preprocess_input\n",
        "from keras.preprocessing import image\n",
        "from keras.preprocessing.image import ImageDataGenerator\n",
        "\n",
        "from glob import glob\n",
        "import os\n",
        "import tensorflow as tf"
      ],
      "id": "optional-mistress",
      "execution_count": null,
      "outputs": []
    },
    {
      "cell_type": "code",
      "metadata": {
        "id": "another-snake"
      },
      "source": [
        "IMAGE_SIZE = [224,224,3]"
      ],
      "id": "another-snake",
      "execution_count": null,
      "outputs": []
    },
    {
      "cell_type": "code",
      "metadata": {
        "id": "powered-memorabilia"
      },
      "source": [
        "train_data = '/content/drive/MyDrive/chest_xray/train/'\n",
        "validation_data = '/content/drive/MyDrive/chest_xray/val/'\n",
        "test_data = '/content/drive/MyDrive/chest_xray/test/'\n",
        "test_data_normal = '/content/drive/MyDrive/chest_xray/test/NORMAL'\n",
        "test_data_pneumonia = '/content/drive/MyDrive/chest_xray/test/PNEUMONIA'"
      ],
      "id": "powered-memorabilia",
      "execution_count": null,
      "outputs": []
    },
    {
      "cell_type": "markdown",
      "metadata": {
        "id": "shqGlYYogo_4"
      },
      "source": [
        "## VGG16"
      ],
      "id": "shqGlYYogo_4"
    },
    {
      "cell_type": "code",
      "metadata": {
        "id": "conservative-treasury",
        "colab": {
          "base_uri": "https://localhost:8080/"
        },
        "outputId": "62971561-b5e4-4eed-8e79-53b7f78d85b7"
      },
      "source": [
        "vgg16 = VGG16( include_top = False,\n",
        "    weights = 'imagenet',\n",
        "    input_shape = IMAGE_SIZE)"
      ],
      "id": "conservative-treasury",
      "execution_count": null,
      "outputs": [
        {
          "output_type": "stream",
          "text": [
            "Downloading data from https://storage.googleapis.com/tensorflow/keras-applications/vgg16/vgg16_weights_tf_dim_ordering_tf_kernels_notop.h5\n",
            "58892288/58889256 [==============================] - 0s 0us/step\n",
            "58900480/58889256 [==============================] - 0s 0us/step\n"
          ],
          "name": "stdout"
        }
      ]
    },
    {
      "cell_type": "code",
      "metadata": {
        "id": "together-intermediate"
      },
      "source": [
        "for layer in vgg16.layers:\n",
        "    layer.trainable = False"
      ],
      "id": "together-intermediate",
      "execution_count": null,
      "outputs": []
    },
    {
      "cell_type": "code",
      "metadata": {
        "colab": {
          "base_uri": "https://localhost:8080/"
        },
        "id": "comfortable-adult",
        "outputId": "5be525c0-f9b9-42f7-94a0-6f3f3865fb78"
      },
      "source": [
        "vgg16.summary()"
      ],
      "id": "comfortable-adult",
      "execution_count": null,
      "outputs": [
        {
          "output_type": "stream",
          "text": [
            "Model: \"vgg16\"\n",
            "_________________________________________________________________\n",
            "Layer (type)                 Output Shape              Param #   \n",
            "=================================================================\n",
            "input_1 (InputLayer)         [(None, 224, 224, 3)]     0         \n",
            "_________________________________________________________________\n",
            "block1_conv1 (Conv2D)        (None, 224, 224, 64)      1792      \n",
            "_________________________________________________________________\n",
            "block1_conv2 (Conv2D)        (None, 224, 224, 64)      36928     \n",
            "_________________________________________________________________\n",
            "block1_pool (MaxPooling2D)   (None, 112, 112, 64)      0         \n",
            "_________________________________________________________________\n",
            "block2_conv1 (Conv2D)        (None, 112, 112, 128)     73856     \n",
            "_________________________________________________________________\n",
            "block2_conv2 (Conv2D)        (None, 112, 112, 128)     147584    \n",
            "_________________________________________________________________\n",
            "block2_pool (MaxPooling2D)   (None, 56, 56, 128)       0         \n",
            "_________________________________________________________________\n",
            "block3_conv1 (Conv2D)        (None, 56, 56, 256)       295168    \n",
            "_________________________________________________________________\n",
            "block3_conv2 (Conv2D)        (None, 56, 56, 256)       590080    \n",
            "_________________________________________________________________\n",
            "block3_conv3 (Conv2D)        (None, 56, 56, 256)       590080    \n",
            "_________________________________________________________________\n",
            "block3_pool (MaxPooling2D)   (None, 28, 28, 256)       0         \n",
            "_________________________________________________________________\n",
            "block4_conv1 (Conv2D)        (None, 28, 28, 512)       1180160   \n",
            "_________________________________________________________________\n",
            "block4_conv2 (Conv2D)        (None, 28, 28, 512)       2359808   \n",
            "_________________________________________________________________\n",
            "block4_conv3 (Conv2D)        (None, 28, 28, 512)       2359808   \n",
            "_________________________________________________________________\n",
            "block4_pool (MaxPooling2D)   (None, 14, 14, 512)       0         \n",
            "_________________________________________________________________\n",
            "block5_conv1 (Conv2D)        (None, 14, 14, 512)       2359808   \n",
            "_________________________________________________________________\n",
            "block5_conv2 (Conv2D)        (None, 14, 14, 512)       2359808   \n",
            "_________________________________________________________________\n",
            "block5_conv3 (Conv2D)        (None, 14, 14, 512)       2359808   \n",
            "_________________________________________________________________\n",
            "block5_pool (MaxPooling2D)   (None, 7, 7, 512)         0         \n",
            "=================================================================\n",
            "Total params: 14,714,688\n",
            "Trainable params: 0\n",
            "Non-trainable params: 14,714,688\n",
            "_________________________________________________________________\n"
          ],
          "name": "stdout"
        }
      ]
    },
    {
      "cell_type": "code",
      "metadata": {
        "id": "coordinate-springer"
      },
      "source": [
        "folders = glob(r'/content/drive/MyDrive/chest_xray/train')"
      ],
      "id": "coordinate-springer",
      "execution_count": null,
      "outputs": []
    },
    {
      "cell_type": "code",
      "metadata": {
        "colab": {
          "base_uri": "https://localhost:8080/"
        },
        "id": "sDCKrBblyZNA",
        "outputId": "cd20dfd2-0211-4fca-c30e-54c02540707e"
      },
      "source": [
        "vgg16.output"
      ],
      "id": "sDCKrBblyZNA",
      "execution_count": null,
      "outputs": [
        {
          "output_type": "execute_result",
          "data": {
            "text/plain": [
              "<KerasTensor: shape=(None, 7, 7, 512) dtype=float32 (created by layer 'block5_pool')>"
            ]
          },
          "metadata": {
            "tags": []
          },
          "execution_count": 10
        }
      ]
    },
    {
      "cell_type": "code",
      "metadata": {
        "scrolled": true,
        "id": "loose-shelf"
      },
      "source": [
        "top_model = vgg16.output\n",
        "top_model = Flatten(name='flatten')(top_model)\n",
        "top_model = Dense(4096, activation='relu')(top_model)\n",
        "top_model = Dense(1072, activation='relu')(top_model)\n",
        "top_model = Dropout(0.2)(top_model)\n",
        "output_layer = Dense(1, activation='sigmoid')(top_model)"
      ],
      "id": "loose-shelf",
      "execution_count": null,
      "outputs": []
    },
    {
      "cell_type": "code",
      "metadata": {
        "id": "LQkQ3JUp8I0y"
      },
      "source": [
        "model_vgg16 = Model(inputs=vgg16.input, outputs=output_layer)"
      ],
      "id": "LQkQ3JUp8I0y",
      "execution_count": null,
      "outputs": []
    },
    {
      "cell_type": "code",
      "metadata": {
        "id": "fhkQjjEm7v-f"
      },
      "source": [
        "model_vgg16.compile(\n",
        "  loss='binary_crossentropy',\n",
        "  optimizer='adam',\n",
        "  metrics='accuracy'\n",
        ")"
      ],
      "id": "fhkQjjEm7v-f",
      "execution_count": null,
      "outputs": []
    },
    {
      "cell_type": "code",
      "metadata": {
        "colab": {
          "base_uri": "https://localhost:8080/"
        },
        "id": "liquid-insider",
        "outputId": "adad67c6-dd87-4cca-8e08-70c5356049df"
      },
      "source": [
        "model_vgg16 .summary()"
      ],
      "id": "liquid-insider",
      "execution_count": null,
      "outputs": [
        {
          "output_type": "stream",
          "text": [
            "Model: \"model\"\n",
            "_________________________________________________________________\n",
            "Layer (type)                 Output Shape              Param #   \n",
            "=================================================================\n",
            "input_1 (InputLayer)         [(None, 224, 224, 3)]     0         \n",
            "_________________________________________________________________\n",
            "block1_conv1 (Conv2D)        (None, 224, 224, 64)      1792      \n",
            "_________________________________________________________________\n",
            "block1_conv2 (Conv2D)        (None, 224, 224, 64)      36928     \n",
            "_________________________________________________________________\n",
            "block1_pool (MaxPooling2D)   (None, 112, 112, 64)      0         \n",
            "_________________________________________________________________\n",
            "block2_conv1 (Conv2D)        (None, 112, 112, 128)     73856     \n",
            "_________________________________________________________________\n",
            "block2_conv2 (Conv2D)        (None, 112, 112, 128)     147584    \n",
            "_________________________________________________________________\n",
            "block2_pool (MaxPooling2D)   (None, 56, 56, 128)       0         \n",
            "_________________________________________________________________\n",
            "block3_conv1 (Conv2D)        (None, 56, 56, 256)       295168    \n",
            "_________________________________________________________________\n",
            "block3_conv2 (Conv2D)        (None, 56, 56, 256)       590080    \n",
            "_________________________________________________________________\n",
            "block3_conv3 (Conv2D)        (None, 56, 56, 256)       590080    \n",
            "_________________________________________________________________\n",
            "block3_pool (MaxPooling2D)   (None, 28, 28, 256)       0         \n",
            "_________________________________________________________________\n",
            "block4_conv1 (Conv2D)        (None, 28, 28, 512)       1180160   \n",
            "_________________________________________________________________\n",
            "block4_conv2 (Conv2D)        (None, 28, 28, 512)       2359808   \n",
            "_________________________________________________________________\n",
            "block4_conv3 (Conv2D)        (None, 28, 28, 512)       2359808   \n",
            "_________________________________________________________________\n",
            "block4_pool (MaxPooling2D)   (None, 14, 14, 512)       0         \n",
            "_________________________________________________________________\n",
            "block5_conv1 (Conv2D)        (None, 14, 14, 512)       2359808   \n",
            "_________________________________________________________________\n",
            "block5_conv2 (Conv2D)        (None, 14, 14, 512)       2359808   \n",
            "_________________________________________________________________\n",
            "block5_conv3 (Conv2D)        (None, 14, 14, 512)       2359808   \n",
            "_________________________________________________________________\n",
            "block5_pool (MaxPooling2D)   (None, 7, 7, 512)         0         \n",
            "_________________________________________________________________\n",
            "flatten (Flatten)            (None, 25088)             0         \n",
            "_________________________________________________________________\n",
            "dense_2 (Dense)              (None, 4096)              102764544 \n",
            "_________________________________________________________________\n",
            "dense_3 (Dense)              (None, 1072)              4391984   \n",
            "_________________________________________________________________\n",
            "dropout (Dropout)            (None, 1072)              0         \n",
            "_________________________________________________________________\n",
            "dense_4 (Dense)              (None, 1)                 1073      \n",
            "=================================================================\n",
            "Total params: 121,872,289\n",
            "Trainable params: 107,157,601\n",
            "Non-trainable params: 14,714,688\n",
            "_________________________________________________________________\n"
          ],
          "name": "stdout"
        }
      ]
    },
    {
      "cell_type": "code",
      "metadata": {
        "id": "mediterranean-pontiac"
      },
      "source": [
        "from keras.preprocessing.image import ImageDataGenerator\n",
        "\n",
        "train_datagen = ImageDataGenerator(rescale = 1./255,\n",
        "                                   shear_range = 0.2,\n",
        "                                   zoom_range = 0.2,\n",
        "                                   horizontal_flip = True)\n",
        "\n",
        "test_datagen = ImageDataGenerator(rescale = 1./255)"
      ],
      "id": "mediterranean-pontiac",
      "execution_count": null,
      "outputs": []
    },
    {
      "cell_type": "code",
      "metadata": {
        "colab": {
          "base_uri": "https://localhost:8080/"
        },
        "id": "powerful-jacob",
        "outputId": "ac9e80ac-441b-477e-e47f-32d073137d6b"
      },
      "source": [
        "training_set = train_datagen.flow_from_directory('/content/drive/MyDrive/chest_xray/train',\n",
        "                                                 target_size = (224, 224),\n",
        "                                                 batch_size = 32,\n",
        "                                                 class_mode = 'binary')"
      ],
      "id": "powerful-jacob",
      "execution_count": null,
      "outputs": [
        {
          "output_type": "stream",
          "text": [
            "Found 5216 images belonging to 2 classes.\n"
          ],
          "name": "stdout"
        }
      ]
    },
    {
      "cell_type": "code",
      "metadata": {
        "colab": {
          "base_uri": "https://localhost:8080/"
        },
        "id": "returning-president",
        "outputId": "260b5677-b7e4-4a80-9b43-dc6aec8f3b67"
      },
      "source": [
        "test_set = test_datagen.flow_from_directory('/content/drive/MyDrive/chest_xray/val',\n",
        "                                            target_size = (224, 224),\n",
        "                                            batch_size = 32,\n",
        "                                            class_mode = 'binary')"
      ],
      "id": "returning-president",
      "execution_count": null,
      "outputs": [
        {
          "output_type": "stream",
          "text": [
            "Found 16 images belonging to 2 classes.\n"
          ],
          "name": "stdout"
        }
      ]
    },
    {
      "cell_type": "code",
      "metadata": {
        "colab": {
          "base_uri": "https://localhost:8080/"
        },
        "id": "nearby-damages",
        "outputId": "cc7b46ce-9493-4d37-8004-0cbc439e3cac"
      },
      "source": [
        "r = model_vgg16.fit_generator(\n",
        "  training_set,\n",
        "  validation_data=test_set,\n",
        "  epochs=5,\n",
        "  steps_per_epoch=len(training_set),\n",
        "  validation_steps=len(test_set)\n",
        ")"
      ],
      "id": "nearby-damages",
      "execution_count": null,
      "outputs": [
        {
          "output_type": "stream",
          "text": [
            "/usr/local/lib/python3.7/dist-packages/keras/engine/training.py:1915: UserWarning: `Model.fit_generator` is deprecated and will be removed in a future version. Please use `Model.fit`, which supports generators.\n",
            "  warnings.warn('`Model.fit_generator` is deprecated and '\n"
          ],
          "name": "stderr"
        },
        {
          "output_type": "stream",
          "text": [
            "Epoch 1/5\n",
            "163/163 [==============================] - 112s 677ms/step - loss: 0.0707 - accuracy: 0.9767 - val_loss: 0.9271 - val_accuracy: 0.7500\n",
            "Epoch 2/5\n",
            "163/163 [==============================] - 108s 660ms/step - loss: 0.0897 - accuracy: 0.9704 - val_loss: 0.1905 - val_accuracy: 0.9375\n",
            "Epoch 3/5\n",
            "163/163 [==============================] - 108s 665ms/step - loss: 0.0614 - accuracy: 0.9784 - val_loss: 0.3088 - val_accuracy: 0.8750\n",
            "Epoch 4/5\n",
            "163/163 [==============================] - 109s 670ms/step - loss: 0.0860 - accuracy: 0.9639 - val_loss: 0.2701 - val_accuracy: 0.8750\n",
            "Epoch 5/5\n",
            "163/163 [==============================] - 108s 660ms/step - loss: 0.0481 - accuracy: 0.9830 - val_loss: 0.1355 - val_accuracy: 0.9375\n"
          ],
          "name": "stdout"
        }
      ]
    },
    {
      "cell_type": "code",
      "metadata": {
        "id": "powerful-tourist",
        "colab": {
          "base_uri": "https://localhost:8080/",
          "height": 513
        },
        "outputId": "2de352bf-a16a-48be-b190-b17ef95de06d"
      },
      "source": [
        "# Plotting the loss\n",
        "plt.plot(r.history['loss'], label='train loss')\n",
        "plt.plot(r.history['val_loss'], label='val loss')\n",
        "plt.legend()\n",
        "plt.show()\n",
        "\n",
        "# PLotting the accuracy\n",
        "plt.plot(r.history['accuracy'], label='train acc')\n",
        "plt.plot(r.history['val_accuracy'], label='val acc')\n",
        "plt.legend()\n",
        "plt.show()"
      ],
      "id": "powerful-tourist",
      "execution_count": null,
      "outputs": [
        {
          "output_type": "display_data",
          "data": {
            "image/png": "[encoded data removed]",
            "text/plain": [
              "<Figure size 432x288 with 1 Axes>"
            ]
          },
          "metadata": {
            "tags": [],
            "needs_background": "light"
          }
        },
        {
          "output_type": "display_data",
          "data": {
            "image/png": "[encoded data removed]",
            "text/plain": [
              "<Figure size 432x288 with 1 Axes>"
            ]
          },
          "metadata": {
            "tags": [],
            "needs_background": "light"
          }
        }
      ]
    },
    {
      "cell_type": "code",
      "metadata": {
        "id": "EvUTiyaSghC3"
      },
      "source": [
        "import tensorflow as tf\n",
        "\n",
        "from keras.models import load_model"
      ],
      "id": "EvUTiyaSghC3",
      "execution_count": null,
      "outputs": []
    },
    {
      "cell_type": "markdown",
      "metadata": {
        "id": "4r66B2qggkDN"
      },
      "source": [
        "## VGG19"
      ],
      "id": "4r66B2qggkDN"
    },
    {
      "cell_type": "code",
      "metadata": {
        "id": "mEuN9u4Ng3da"
      },
      "source": [
        "vgg19 = VGG19( include_top = False,\n",
        "    weights = 'imagenet',\n",
        "    input_shape = IMAGE_SIZE)"
      ],
      "id": "mEuN9u4Ng3da",
      "execution_count": null,
      "outputs": []
    },
    {
      "cell_type": "code",
      "metadata": {
        "id": "LvFaPX4fhNWX"
      },
      "source": [
        "for layers in vgg19.layers:\n",
        "  layers.trainable = False"
      ],
      "id": "LvFaPX4fhNWX",
      "execution_count": null,
      "outputs": []
    },
    {
      "cell_type": "code",
      "metadata": {
        "id": "OSCxvQPbha2t",
        "colab": {
          "base_uri": "https://localhost:8080/"
        },
        "outputId": "61b5164d-057f-47fa-9bb3-fbd39738f191"
      },
      "source": [
        "vgg19.summary()"
      ],
      "id": "OSCxvQPbha2t",
      "execution_count": null,
      "outputs": [
        {
          "output_type": "stream",
          "text": [
            "Model: \"vgg19\"\n",
            "_________________________________________________________________\n",
            "Layer (type)                 Output Shape              Param #   \n",
            "=================================================================\n",
            "input_3 (InputLayer)         [(None, 224, 224, 3)]     0         \n",
            "_________________________________________________________________\n",
            "block1_conv1 (Conv2D)        (None, 224, 224, 64)      1792      \n",
            "_________________________________________________________________\n",
            "block1_conv2 (Conv2D)        (None, 224, 224, 64)      36928     \n",
            "_________________________________________________________________\n",
            "block1_pool (MaxPooling2D)   (None, 112, 112, 64)      0         \n",
            "_________________________________________________________________\n",
            "block2_conv1 (Conv2D)        (None, 112, 112, 128)     73856     \n",
            "_________________________________________________________________\n",
            "block2_conv2 (Conv2D)        (None, 112, 112, 128)     147584    \n",
            "_________________________________________________________________\n",
            "block2_pool (MaxPooling2D)   (None, 56, 56, 128)       0         \n",
            "_________________________________________________________________\n",
            "block3_conv1 (Conv2D)        (None, 56, 56, 256)       295168    \n",
            "_________________________________________________________________\n",
            "block3_conv2 (Conv2D)        (None, 56, 56, 256)       590080    \n",
            "_________________________________________________________________\n",
            "block3_conv3 (Conv2D)        (None, 56, 56, 256)       590080    \n",
            "_________________________________________________________________\n",
            "block3_conv4 (Conv2D)        (None, 56, 56, 256)       590080    \n",
            "_________________________________________________________________\n",
            "block3_pool (MaxPooling2D)   (None, 28, 28, 256)       0         \n",
            "_________________________________________________________________\n",
            "block4_conv1 (Conv2D)        (None, 28, 28, 512)       1180160   \n",
            "_________________________________________________________________\n",
            "block4_conv2 (Conv2D)        (None, 28, 28, 512)       2359808   \n",
            "_________________________________________________________________\n",
            "block4_conv3 (Conv2D)        (None, 28, 28, 512)       2359808   \n",
            "_________________________________________________________________\n",
            "block4_conv4 (Conv2D)        (None, 28, 28, 512)       2359808   \n",
            "_________________________________________________________________\n",
            "block4_pool (MaxPooling2D)   (None, 14, 14, 512)       0         \n",
            "_________________________________________________________________\n",
            "block5_conv1 (Conv2D)        (None, 14, 14, 512)       2359808   \n",
            "_________________________________________________________________\n",
            "block5_conv2 (Conv2D)        (None, 14, 14, 512)       2359808   \n",
            "_________________________________________________________________\n",
            "block5_conv3 (Conv2D)        (None, 14, 14, 512)       2359808   \n",
            "_________________________________________________________________\n",
            "block5_conv4 (Conv2D)        (None, 14, 14, 512)       2359808   \n",
            "_________________________________________________________________\n",
            "block5_pool (MaxPooling2D)   (None, 7, 7, 512)         0         \n",
            "=================================================================\n",
            "Total params: 20,024,384\n",
            "Trainable params: 0\n",
            "Non-trainable params: 20,024,384\n",
            "_________________________________________________________________\n"
          ],
          "name": "stdout"
        }
      ]
    },
    {
      "cell_type": "code",
      "metadata": {
        "id": "KF9LeRRchm5p"
      },
      "source": [
        "top_model = vgg19.output\n",
        "top_model = Flatten(name='flatten')(top_model)\n",
        "top_model = Dense(4096, activation='relu')(top_model)\n",
        "top_model = Dense(1072, activation='relu')(top_model)\n",
        "top_model = Dropout(0.2)(top_model)\n",
        "output_layer = Dense(1, activation='sigmoid')(top_model)"
      ],
      "id": "KF9LeRRchm5p",
      "execution_count": null,
      "outputs": []
    },
    {
      "cell_type": "code",
      "metadata": {
        "id": "ugAur504hnmy"
      },
      "source": [
        "model_vgg19 = Model(inputs=vgg19.input, outputs=output_layer)"
      ],
      "id": "ugAur504hnmy",
      "execution_count": null,
      "outputs": []
    },
    {
      "cell_type": "code",
      "metadata": {
        "id": "r7i270oehu7P",
        "colab": {
          "base_uri": "https://localhost:8080/"
        },
        "outputId": "16f94f2f-0e2a-40c9-8a2c-377e646bb1cb"
      },
      "source": [
        "model_vgg19.summary()"
      ],
      "id": "r7i270oehu7P",
      "execution_count": null,
      "outputs": [
        {
          "output_type": "stream",
          "text": [
            "Model: \"model_3\"\n",
            "_________________________________________________________________\n",
            "Layer (type)                 Output Shape              Param #   \n",
            "=================================================================\n",
            "input_3 (InputLayer)         [(None, 224, 224, 3)]     0         \n",
            "_________________________________________________________________\n",
            "block1_conv1 (Conv2D)        (None, 224, 224, 64)      1792      \n",
            "_________________________________________________________________\n",
            "block1_conv2 (Conv2D)        (None, 224, 224, 64)      36928     \n",
            "_________________________________________________________________\n",
            "block1_pool (MaxPooling2D)   (None, 112, 112, 64)      0         \n",
            "_________________________________________________________________\n",
            "block2_conv1 (Conv2D)        (None, 112, 112, 128)     73856     \n",
            "_________________________________________________________________\n",
            "block2_conv2 (Conv2D)        (None, 112, 112, 128)     147584    \n",
            "_________________________________________________________________\n",
            "block2_pool (MaxPooling2D)   (None, 56, 56, 128)       0         \n",
            "_________________________________________________________________\n",
            "block3_conv1 (Conv2D)        (None, 56, 56, 256)       295168    \n",
            "_________________________________________________________________\n",
            "block3_conv2 (Conv2D)        (None, 56, 56, 256)       590080    \n",
            "_________________________________________________________________\n",
            "block3_conv3 (Conv2D)        (None, 56, 56, 256)       590080    \n",
            "_________________________________________________________________\n",
            "block3_conv4 (Conv2D)        (None, 56, 56, 256)       590080    \n",
            "_________________________________________________________________\n",
            "block3_pool (MaxPooling2D)   (None, 28, 28, 256)       0         \n",
            "_________________________________________________________________\n",
            "block4_conv1 (Conv2D)        (None, 28, 28, 512)       1180160   \n",
            "_________________________________________________________________\n",
            "block4_conv2 (Conv2D)        (None, 28, 28, 512)       2359808   \n",
            "_________________________________________________________________\n",
            "block4_conv3 (Conv2D)        (None, 28, 28, 512)       2359808   \n",
            "_________________________________________________________________\n",
            "block4_conv4 (Conv2D)        (None, 28, 28, 512)       2359808   \n",
            "_________________________________________________________________\n",
            "block4_pool (MaxPooling2D)   (None, 14, 14, 512)       0         \n",
            "_________________________________________________________________\n",
            "block5_conv1 (Conv2D)        (None, 14, 14, 512)       2359808   \n",
            "_________________________________________________________________\n",
            "block5_conv2 (Conv2D)        (None, 14, 14, 512)       2359808   \n",
            "_________________________________________________________________\n",
            "block5_conv3 (Conv2D)        (None, 14, 14, 512)       2359808   \n",
            "_________________________________________________________________\n",
            "block5_conv4 (Conv2D)        (None, 14, 14, 512)       2359808   \n",
            "_________________________________________________________________\n",
            "block5_pool (MaxPooling2D)   (None, 7, 7, 512)         0         \n",
            "_________________________________________________________________\n",
            "flatten (Flatten)            (None, 25088)             0         \n",
            "_________________________________________________________________\n",
            "dense_8 (Dense)              (None, 4096)              102764544 \n",
            "_________________________________________________________________\n",
            "dense_9 (Dense)              (None, 1072)              4391984   \n",
            "_________________________________________________________________\n",
            "dropout_2 (Dropout)          (None, 1072)              0         \n",
            "_________________________________________________________________\n",
            "dense_10 (Dense)             (None, 1)                 1073      \n",
            "=================================================================\n",
            "Total params: 127,181,985\n",
            "Trainable params: 107,157,601\n",
            "Non-trainable params: 20,024,384\n",
            "_________________________________________________________________\n"
          ],
          "name": "stdout"
        }
      ]
    },
    {
      "cell_type": "code",
      "metadata": {
        "id": "09opgg2eh-l3"
      },
      "source": [
        "model_vgg19.compile(\n",
        "  loss='binary_crossentropy',\n",
        "  optimizer='adam',\n",
        "  metrics='accuracy'\n",
        ")"
      ],
      "id": "09opgg2eh-l3",
      "execution_count": null,
      "outputs": []
    },
    {
      "cell_type": "code",
      "metadata": {
        "id": "mzazCLXZiE8f",
        "colab": {
          "base_uri": "https://localhost:8080/"
        },
        "outputId": "c18e6fde-3f81-4e75-e368-6755a248dc0f"
      },
      "source": [
        "s = model_vgg19.fit_generator(\n",
        "  training_set,\n",
        "  validation_data=test_set,\n",
        "  epochs=5,\n",
        "  steps_per_epoch=len(training_set),\n",
        "  validation_steps=len(test_set)\n",
        ")"
      ],
      "id": "mzazCLXZiE8f",
      "execution_count": null,
      "outputs": [
        {
          "output_type": "stream",
          "text": [
            "/usr/local/lib/python3.7/dist-packages/keras/engine/training.py:1915: UserWarning: `Model.fit_generator` is deprecated and will be removed in a future version. Please use `Model.fit`, which supports generators.\n",
            "  warnings.warn('`Model.fit_generator` is deprecated and '\n"
          ],
          "name": "stderr"
        },
        {
          "output_type": "stream",
          "text": [
            "Epoch 1/5\n",
            "163/163 [==============================] - 117s 706ms/step - loss: 2.7759 - accuracy: 0.8087 - val_loss: 0.6503 - val_accuracy: 0.7500\n",
            "Epoch 2/5\n",
            "163/163 [==============================] - 111s 682ms/step - loss: 0.1628 - accuracy: 0.9314 - val_loss: 0.3202 - val_accuracy: 0.8750\n",
            "Epoch 3/5\n",
            "163/163 [==============================] - 111s 682ms/step - loss: 0.1418 - accuracy: 0.9418 - val_loss: 0.8630 - val_accuracy: 0.6875\n",
            "Epoch 4/5\n",
            "163/163 [==============================] - 112s 683ms/step - loss: 0.1332 - accuracy: 0.9486 - val_loss: 0.1731 - val_accuracy: 0.9375\n",
            "Epoch 5/5\n",
            "163/163 [==============================] - 111s 680ms/step - loss: 0.1216 - accuracy: 0.9508 - val_loss: 0.2539 - val_accuracy: 0.8125\n"
          ],
          "name": "stdout"
        }
      ]
    },
    {
      "cell_type": "code",
      "metadata": {
        "id": "_uOkuMvhiMsG",
        "colab": {
          "base_uri": "https://localhost:8080/",
          "height": 265
        },
        "outputId": "28e68162-45cf-456e-f01d-191fbed07e81"
      },
      "source": [
        "plt.plot(s.history['loss'], label='train loss')\n",
        "plt.plot(s.history['val_loss'], label='val loss')\n",
        "plt.legend()\n",
        "plt.show()"
      ],
      "id": "_uOkuMvhiMsG",
      "execution_count": null,
      "outputs": [
        {
          "output_type": "display_data",
          "data": {
            "image/png": "[encoded data removed]",
            "text/plain": [
              "<Figure size 432x288 with 1 Axes>"
            ]
          },
          "metadata": {
            "tags": [],
            "needs_background": "light"
          }
        }
      ]
    },
    {
      "cell_type": "code",
      "metadata": {
        "id": "fgmOljDxjde-",
        "colab": {
          "base_uri": "https://localhost:8080/",
          "height": 265
        },
        "outputId": "0ae51f3c-0837-4eb8-99e6-90b79d2abbf3"
      },
      "source": [
        "plt.plot(s.history['accuracy'], label='train acc')\n",
        "plt.plot(s.history['val_accuracy'], label='val acc')\n",
        "plt.legend()\n",
        "plt.show()"
      ],
      "id": "fgmOljDxjde-",
      "execution_count": null,
      "outputs": [
        {
          "output_type": "display_data",
          "data": {
            "image/png": "[encoded data removed]",
            "text/plain": [
              "<Figure size 432x288 with 1 Axes>"
            ]
          },
          "metadata": {
            "tags": [],
            "needs_background": "light"
          }
        }
      ]
    },
    {
      "cell_type": "code",
      "metadata": {
        "id": "Iao7pUS0AAHZ"
      },
      "source": [
        "os.chdir('/content/drive/MyDrive/chest_xray/')"
      ],
      "id": "Iao7pUS0AAHZ",
      "execution_count": null,
      "outputs": []
    },
    {
      "cell_type": "code",
      "metadata": {
        "id": "35Q7d8uCiQY0"
      },
      "source": [
        "model_vgg19.save('model_vgg19.h5')\n",
        "model_vgg16.save('model_vgg16.h5')"
      ],
      "id": "35Q7d8uCiQY0",
      "execution_count": null,
      "outputs": []
    },
    {
      "cell_type": "markdown",
      "metadata": {
        "id": "19XdG9Tbbpim"
      },
      "source": [
        "## Loading the model and predicting using the test data"
      ],
      "id": "19XdG9Tbbpim"
    },
    {
      "cell_type": "code",
      "metadata": {
        "id": "M-dy-LafbFtc"
      },
      "source": [
        "from tensorflow import keras\n",
        "\n",
        "\n",
        "model_vgg16 = keras.models.load_model(\"/content/drive/MyDrive/chest_xray/model_vgg16.h5\")\n",
        "model_vgg19 = keras.models.load_model(\"/content/drive/MyDrive/chest_xray/model_vgg19.h5\")"
      ],
      "id": "M-dy-LafbFtc",
      "execution_count": null,
      "outputs": []
    },
    {
      "cell_type": "code",
      "metadata": {
        "id": "RPMolbYCfSdy"
      },
      "source": [
        "os.chdir('/content/drive/MyDrive/chest_xray/test/NORMAL/')\n",
        "cwd = os.getcwd()\n",
        "files = os.listdir(cwd)"
      ],
      "id": "RPMolbYCfSdy",
      "execution_count": null,
      "outputs": []
    },
    {
      "cell_type": "code",
      "metadata": {
        "id": "6CFbwaDDbhfk"
      },
      "source": [
        "normal_image = []\n",
        "preprocessed_normal = []\n",
        "\n",
        "for filename in files:\n",
        "  img= image.load_img(filename, target_size=(224,224))\n",
        "  img_array = image.img_to_array(img)\n",
        "  img_batch = np.expand_dims(img_array, axis=0)\n",
        "  img_preprocessed = preprocess_input(img_batch)\n",
        "  preprocessed_normal.append(img_preprocessed)\n",
        "  normal_image.append(filename)"
      ],
      "id": "6CFbwaDDbhfk",
      "execution_count": null,
      "outputs": []
    },
    {
      "cell_type": "code",
      "metadata": {
        "id": "LWcin2wyb6gr"
      },
      "source": [
        "normal_preds = []\n",
        "for x in preprocessed_normal:\n",
        "  classes = model_vgg16.predict(x)\n",
        "  normal_preds.append(classes)"
      ],
      "id": "LWcin2wyb6gr",
      "execution_count": null,
      "outputs": []
    },
    {
      "cell_type": "code",
      "metadata": {
        "id": "K-skl7r1xBpB"
      },
      "source": [
        "os.chdir('/content/drive/MyDrive/chest_xray/test/PNEUMONIA/')\n",
        "cwd = os.getcwd()\n",
        "files = os.listdir(cwd)"
      ],
      "id": "K-skl7r1xBpB",
      "execution_count": null,
      "outputs": []
    },
    {
      "cell_type": "code",
      "metadata": {
        "id": "go-0S1UzxOwG"
      },
      "source": [
        "pneumonia_image = []\n",
        "preprocessed_pneumonia = []\n",
        "\n",
        "for filename in files:\n",
        "  img= image.load_img(filename, target_size=(224,224))\n",
        "  img_array = image.img_to_array(img)\n",
        "  img_batch = np.expand_dims(img_array, axis=0)\n",
        "  img_preprocessed = preprocess_input(img_batch)\n",
        "  preprocessed_pneumonia.append(img_preprocessed)\n",
        "  pneumonia_image.append(filename)"
      ],
      "id": "go-0S1UzxOwG",
      "execution_count": null,
      "outputs": []
    },
    {
      "cell_type": "code",
      "metadata": {
        "id": "H_cxm3a2xcnG"
      },
      "source": [
        "pneumonia_preds = []\n",
        "for x in preprocessed_pneumonia:\n",
        "  classes = model_vgg16.predict(x)\n",
        "  pneumonia_preds.append(classes)"
      ],
      "id": "H_cxm3a2xcnG",
      "execution_count": null,
      "outputs": []
    },
    {
      "cell_type": "code",
      "metadata": {
        "colab": {
          "base_uri": "https://localhost:8080/"
        },
        "id": "9fg02742x8pw",
        "outputId": "0ec5b44b-d560-4196-ab13-647b02b4844f"
      },
      "source": [
        "pneumonia_preds"
      ],
      "id": "9fg02742x8pw",
      "execution_count": null,
      "outputs": [
        {
          "output_type": "execute_result",
          "data": {
            "text/plain": [
              "[array([[1.]], dtype=float32),\n",
              " array([[1.]], dtype=float32),\n",
              " array([[0.]], dtype=float32),\n",
              " array([[1.]], dtype=float32),\n",
              " array([[1.]], dtype=float32),\n",
              " array([[1.]], dtype=float32),\n",
              " array([[1.]], dtype=float32),\n",
              " array([[1.]], dtype=float32),\n",
              " array([[1.]], dtype=float32),\n",
              " array([[1.]], dtype=float32),\n",
              " array([[1.]], dtype=float32),\n",
              " array([[1.]], dtype=float32),\n",
              " array([[1.]], dtype=float32),\n",
              " array([[1.]], dtype=float32),\n",
              " array([[1.]], dtype=float32),\n",
              " array([[1.]], dtype=float32),\n",
              " array([[1.]], dtype=float32),\n",
              " array([[1.]], dtype=float32),\n",
              " array([[1.]], dtype=float32),\n",
              " array([[1.]], dtype=float32),\n",
              " array([[1.]], dtype=float32),\n",
              " array([[1.]], dtype=float32),\n",
              " array([[1.]], dtype=float32),\n",
              " array([[1.]], dtype=float32),\n",
              " array([[1.]], dtype=float32),\n",
              " array([[1.]], dtype=float32),\n",
              " array([[1.]], dtype=float32),\n",
              " array([[1.]], dtype=float32),\n",
              " array([[1.]], dtype=float32),\n",
              " array([[1.]], dtype=float32),\n",
              " array([[1.]], dtype=float32),\n",
              " array([[0.9999999]], dtype=float32),\n",
              " array([[1.]], dtype=float32),\n",
              " array([[1.]], dtype=float32),\n",
              " array([[1.]], dtype=float32),\n",
              " array([[1.]], dtype=float32),\n",
              " array([[1.]], dtype=float32),\n",
              " array([[1.]], dtype=float32),\n",
              " array([[1.]], dtype=float32),\n",
              " array([[1.]], dtype=float32),\n",
              " array([[1.]], dtype=float32),\n",
              " array([[1.]], dtype=float32),\n",
              " array([[1.]], dtype=float32),\n",
              " array([[1.]], dtype=float32),\n",
              " array([[1.]], dtype=float32),\n",
              " array([[1.]], dtype=float32),\n",
              " array([[1.]], dtype=float32),\n",
              " array([[1.]], dtype=float32),\n",
              " array([[1.]], dtype=float32),\n",
              " array([[1.]], dtype=float32),\n",
              " array([[1.]], dtype=float32),\n",
              " array([[1.]], dtype=float32),\n",
              " array([[1.]], dtype=float32),\n",
              " array([[0.]], dtype=float32),\n",
              " array([[1.]], dtype=float32),\n",
              " array([[0.]], dtype=float32),\n",
              " array([[1.]], dtype=float32),\n",
              " array([[1.]], dtype=float32),\n",
              " array([[1.]], dtype=float32),\n",
              " array([[1.]], dtype=float32),\n",
              " array([[1.]], dtype=float32),\n",
              " array([[1.]], dtype=float32),\n",
              " array([[1.]], dtype=float32),\n",
              " array([[1.]], dtype=float32),\n",
              " array([[1.]], dtype=float32),\n",
              " array([[1.]], dtype=float32),\n",
              " array([[1.]], dtype=float32),\n",
              " array([[1.]], dtype=float32),\n",
              " array([[1.]], dtype=float32),\n",
              " array([[1.]], dtype=float32),\n",
              " array([[1.]], dtype=float32),\n",
              " array([[1.]], dtype=float32),\n",
              " array([[1.]], dtype=float32),\n",
              " array([[1.]], dtype=float32),\n",
              " array([[0.]], dtype=float32),\n",
              " array([[1.]], dtype=float32),\n",
              " array([[1.]], dtype=float32),\n",
              " array([[0.]], dtype=float32),\n",
              " array([[1.]], dtype=float32),\n",
              " array([[1.]], dtype=float32),\n",
              " array([[1.]], dtype=float32),\n",
              " array([[1.]], dtype=float32),\n",
              " array([[1.]], dtype=float32),\n",
              " array([[1.]], dtype=float32),\n",
              " array([[1.]], dtype=float32),\n",
              " array([[1.]], dtype=float32),\n",
              " array([[1.]], dtype=float32),\n",
              " array([[1.]], dtype=float32),\n",
              " array([[1.]], dtype=float32),\n",
              " array([[1.]], dtype=float32),\n",
              " array([[1.]], dtype=float32),\n",
              " array([[0.]], dtype=float32),\n",
              " array([[1.]], dtype=float32),\n",
              " array([[1.]], dtype=float32),\n",
              " array([[1.]], dtype=float32),\n",
              " array([[1.]], dtype=float32),\n",
              " array([[1.]], dtype=float32),\n",
              " array([[1.]], dtype=float32),\n",
              " array([[1.]], dtype=float32),\n",
              " array([[1.]], dtype=float32),\n",
              " array([[1.]], dtype=float32),\n",
              " array([[1.]], dtype=float32),\n",
              " array([[1.]], dtype=float32),\n",
              " array([[1.]], dtype=float32),\n",
              " array([[1.]], dtype=float32),\n",
              " array([[1.]], dtype=float32),\n",
              " array([[1.]], dtype=float32),\n",
              " array([[1.]], dtype=float32),\n",
              " array([[1.]], dtype=float32),\n",
              " array([[1.]], dtype=float32),\n",
              " array([[1.]], dtype=float32),\n",
              " array([[1.]], dtype=float32),\n",
              " array([[1.]], dtype=float32),\n",
              " array([[1.]], dtype=float32),\n",
              " array([[1.]], dtype=float32),\n",
              " array([[1.]], dtype=float32),\n",
              " array([[1.]], dtype=float32),\n",
              " array([[1.]], dtype=float32),\n",
              " array([[1.]], dtype=float32),\n",
              " array([[0.]], dtype=float32),\n",
              " array([[1.]], dtype=float32),\n",
              " array([[1.]], dtype=float32),\n",
              " array([[1.]], dtype=float32),\n",
              " array([[1.]], dtype=float32),\n",
              " array([[1.]], dtype=float32),\n",
              " array([[1.]], dtype=float32),\n",
              " array([[1.]], dtype=float32),\n",
              " array([[1.]], dtype=float32),\n",
              " array([[1.]], dtype=float32),\n",
              " array([[1.]], dtype=float32),\n",
              " array([[1.]], dtype=float32),\n",
              " array([[1.]], dtype=float32),\n",
              " array([[1.]], dtype=float32),\n",
              " array([[1.]], dtype=float32),\n",
              " array([[1.]], dtype=float32),\n",
              " array([[1.]], dtype=float32),\n",
              " array([[1.0734758e-19]], dtype=float32),\n",
              " array([[1.]], dtype=float32),\n",
              " array([[1.]], dtype=float32),\n",
              " array([[0.]], dtype=float32),\n",
              " array([[0.]], dtype=float32),\n",
              " array([[0.]], dtype=float32),\n",
              " array([[1.]], dtype=float32),\n",
              " array([[1.]], dtype=float32),\n",
              " array([[1.]], dtype=float32),\n",
              " array([[1.]], dtype=float32),\n",
              " array([[0.]], dtype=float32),\n",
              " array([[1.]], dtype=float32),\n",
              " array([[1.]], dtype=float32),\n",
              " array([[1.]], dtype=float32),\n",
              " array([[1.]], dtype=float32),\n",
              " array([[1.]], dtype=float32),\n",
              " array([[5.565305e-17]], dtype=float32),\n",
              " array([[1.]], dtype=float32),\n",
              " array([[1.]], dtype=float32),\n",
              " array([[1.]], dtype=float32),\n",
              " array([[1.]], dtype=float32),\n",
              " array([[1.]], dtype=float32),\n",
              " array([[1.]], dtype=float32),\n",
              " array([[1.]], dtype=float32),\n",
              " array([[1.]], dtype=float32),\n",
              " array([[1.]], dtype=float32),\n",
              " array([[1.]], dtype=float32),\n",
              " array([[1.]], dtype=float32),\n",
              " array([[1.]], dtype=float32),\n",
              " array([[1.]], dtype=float32),\n",
              " array([[1.]], dtype=float32),\n",
              " array([[1.]], dtype=float32),\n",
              " array([[1.]], dtype=float32),\n",
              " array([[1.]], dtype=float32),\n",
              " array([[1.]], dtype=float32),\n",
              " array([[1.]], dtype=float32),\n",
              " array([[1.]], dtype=float32),\n",
              " array([[1.]], dtype=float32),\n",
              " array([[1.]], dtype=float32),\n",
              " array([[1.]], dtype=float32),\n",
              " array([[1.]], dtype=float32),\n",
              " array([[1.]], dtype=float32),\n",
              " array([[1.]], dtype=float32),\n",
              " array([[1.]], dtype=float32),\n",
              " array([[1.]], dtype=float32),\n",
              " array([[0.]], dtype=float32),\n",
              " array([[1.]], dtype=float32),\n",
              " array([[0.]], dtype=float32),\n",
              " array([[1.]], dtype=float32),\n",
              " array([[1.]], dtype=float32),\n",
              " array([[1.]], dtype=float32),\n",
              " array([[1.]], dtype=float32),\n",
              " array([[1.]], dtype=float32),\n",
              " array([[1.]], dtype=float32),\n",
              " array([[1.]], dtype=float32),\n",
              " array([[1.]], dtype=float32),\n",
              " array([[1.]], dtype=float32),\n",
              " array([[1.]], dtype=float32),\n",
              " array([[1.]], dtype=float32),\n",
              " array([[1.]], dtype=float32),\n",
              " array([[1.]], dtype=float32),\n",
              " array([[1.]], dtype=float32),\n",
              " array([[1.]], dtype=float32),\n",
              " array([[1.]], dtype=float32),\n",
              " array([[1.]], dtype=float32),\n",
              " array([[1.]], dtype=float32),\n",
              " array([[1.]], dtype=float32),\n",
              " array([[0.]], dtype=float32),\n",
              " array([[1.]], dtype=float32),\n",
              " array([[1.]], dtype=float32),\n",
              " array([[1.]], dtype=float32),\n",
              " array([[0.]], dtype=float32),\n",
              " array([[1.]], dtype=float32),\n",
              " array([[1.]], dtype=float32),\n",
              " array([[1.]], dtype=float32),\n",
              " array([[1.]], dtype=float32),\n",
              " array([[1.]], dtype=float32),\n",
              " array([[1.]], dtype=float32),\n",
              " array([[1.]], dtype=float32),\n",
              " array([[1.]], dtype=float32),\n",
              " array([[1.]], dtype=float32),\n",
              " array([[1.]], dtype=float32),\n",
              " array([[1.]], dtype=float32),\n",
              " array([[1.]], dtype=float32),\n",
              " array([[1.]], dtype=float32),\n",
              " array([[1.]], dtype=float32),\n",
              " array([[1.]], dtype=float32),\n",
              " array([[1.]], dtype=float32),\n",
              " array([[1.]], dtype=float32),\n",
              " array([[1.]], dtype=float32),\n",
              " array([[1.]], dtype=float32),\n",
              " array([[1.]], dtype=float32),\n",
              " array([[1.]], dtype=float32),\n",
              " array([[1.]], dtype=float32),\n",
              " array([[1.]], dtype=float32),\n",
              " array([[1.]], dtype=float32),\n",
              " array([[1.]], dtype=float32),\n",
              " array([[1.]], dtype=float32),\n",
              " array([[1.]], dtype=float32),\n",
              " array([[1.]], dtype=float32),\n",
              " array([[1.]], dtype=float32),\n",
              " array([[1.]], dtype=float32),\n",
              " array([[1.]], dtype=float32),\n",
              " array([[1.]], dtype=float32),\n",
              " array([[1.]], dtype=float32),\n",
              " array([[1.]], dtype=float32),\n",
              " array([[1.]], dtype=float32),\n",
              " array([[1.]], dtype=float32),\n",
              " array([[1.]], dtype=float32),\n",
              " array([[1.]], dtype=float32),\n",
              " array([[1.]], dtype=float32),\n",
              " array([[1.]], dtype=float32),\n",
              " array([[1.]], dtype=float32),\n",
              " array([[1.]], dtype=float32),\n",
              " array([[1.]], dtype=float32),\n",
              " array([[1.]], dtype=float32),\n",
              " array([[1.]], dtype=float32),\n",
              " array([[1.]], dtype=float32),\n",
              " array([[1.]], dtype=float32),\n",
              " array([[1.]], dtype=float32),\n",
              " array([[1.]], dtype=float32),\n",
              " array([[1.]], dtype=float32),\n",
              " array([[1.]], dtype=float32),\n",
              " array([[1.]], dtype=float32),\n",
              " array([[1.]], dtype=float32),\n",
              " array([[1.]], dtype=float32),\n",
              " array([[1.]], dtype=float32),\n",
              " array([[1.]], dtype=float32),\n",
              " array([[1.]], dtype=float32),\n",
              " array([[1.]], dtype=float32),\n",
              " array([[1.]], dtype=float32),\n",
              " array([[1.]], dtype=float32),\n",
              " array([[1.]], dtype=float32),\n",
              " array([[1.]], dtype=float32),\n",
              " array([[1.]], dtype=float32),\n",
              " array([[1.]], dtype=float32),\n",
              " array([[1.]], dtype=float32),\n",
              " array([[1.]], dtype=float32),\n",
              " array([[1.]], dtype=float32),\n",
              " array([[1.]], dtype=float32),\n",
              " array([[1.]], dtype=float32),\n",
              " array([[1.]], dtype=float32),\n",
              " array([[1.]], dtype=float32),\n",
              " array([[1.]], dtype=float32),\n",
              " array([[1.]], dtype=float32),\n",
              " array([[1.]], dtype=float32),\n",
              " array([[1.]], dtype=float32),\n",
              " array([[1.]], dtype=float32),\n",
              " array([[1.]], dtype=float32),\n",
              " array([[1.]], dtype=float32),\n",
              " array([[1.]], dtype=float32),\n",
              " array([[1.]], dtype=float32),\n",
              " array([[1.]], dtype=float32),\n",
              " array([[1.]], dtype=float32),\n",
              " array([[1.]], dtype=float32),\n",
              " array([[1.]], dtype=float32),\n",
              " array([[1.]], dtype=float32),\n",
              " array([[1.]], dtype=float32),\n",
              " array([[1.]], dtype=float32),\n",
              " array([[1.]], dtype=float32),\n",
              " array([[3.4481126e-38]], dtype=float32),\n",
              " array([[1.]], dtype=float32),\n",
              " array([[1.]], dtype=float32),\n",
              " array([[1.]], dtype=float32),\n",
              " array([[1.]], dtype=float32),\n",
              " array([[1.]], dtype=float32),\n",
              " array([[1.]], dtype=float32),\n",
              " array([[1.]], dtype=float32),\n",
              " array([[1.]], dtype=float32),\n",
              " array([[1.]], dtype=float32),\n",
              " array([[1.]], dtype=float32),\n",
              " array([[1.]], dtype=float32),\n",
              " array([[1.]], dtype=float32),\n",
              " array([[1.]], dtype=float32),\n",
              " array([[1.]], dtype=float32),\n",
              " array([[1.]], dtype=float32),\n",
              " array([[1.]], dtype=float32),\n",
              " array([[1.]], dtype=float32),\n",
              " array([[1.]], dtype=float32),\n",
              " array([[1.]], dtype=float32),\n",
              " array([[1.]], dtype=float32),\n",
              " array([[1.]], dtype=float32),\n",
              " array([[1.]], dtype=float32),\n",
              " array([[1.]], dtype=float32),\n",
              " array([[1.]], dtype=float32),\n",
              " array([[1.]], dtype=float32),\n",
              " array([[1.]], dtype=float32),\n",
              " array([[1.]], dtype=float32),\n",
              " array([[1.]], dtype=float32),\n",
              " array([[1.]], dtype=float32),\n",
              " array([[1.]], dtype=float32),\n",
              " array([[1.]], dtype=float32),\n",
              " array([[0.]], dtype=float32),\n",
              " array([[1.]], dtype=float32),\n",
              " array([[1.]], dtype=float32),\n",
              " array([[1.]], dtype=float32),\n",
              " array([[1.]], dtype=float32),\n",
              " array([[1.]], dtype=float32),\n",
              " array([[1.]], dtype=float32),\n",
              " array([[1.]], dtype=float32),\n",
              " array([[1.]], dtype=float32),\n",
              " array([[1.]], dtype=float32),\n",
              " array([[1.]], dtype=float32),\n",
              " array([[1.]], dtype=float32),\n",
              " array([[1.]], dtype=float32),\n",
              " array([[1.]], dtype=float32),\n",
              " array([[1.]], dtype=float32),\n",
              " array([[1.]], dtype=float32),\n",
              " array([[1.]], dtype=float32),\n",
              " array([[1.]], dtype=float32),\n",
              " array([[1.]], dtype=float32),\n",
              " array([[1.]], dtype=float32),\n",
              " array([[1.]], dtype=float32),\n",
              " array([[1.]], dtype=float32),\n",
              " array([[1.]], dtype=float32),\n",
              " array([[1.]], dtype=float32),\n",
              " array([[1.]], dtype=float32),\n",
              " array([[1.]], dtype=float32),\n",
              " array([[1.]], dtype=float32),\n",
              " array([[1.]], dtype=float32),\n",
              " array([[1.]], dtype=float32),\n",
              " array([[1.]], dtype=float32),\n",
              " array([[1.]], dtype=float32),\n",
              " array([[1.]], dtype=float32),\n",
              " array([[1.]], dtype=float32),\n",
              " array([[0.]], dtype=float32),\n",
              " array([[1.]], dtype=float32),\n",
              " array([[1.]], dtype=float32),\n",
              " array([[1.]], dtype=float32),\n",
              " array([[1.]], dtype=float32),\n",
              " array([[1.]], dtype=float32),\n",
              " array([[1.]], dtype=float32),\n",
              " array([[1.]], dtype=float32),\n",
              " array([[1.]], dtype=float32),\n",
              " array([[1.]], dtype=float32),\n",
              " array([[1.]], dtype=float32),\n",
              " array([[1.]], dtype=float32),\n",
              " array([[1.]], dtype=float32),\n",
              " array([[1.]], dtype=float32),\n",
              " array([[1.]], dtype=float32),\n",
              " array([[1.]], dtype=float32),\n",
              " array([[1.]], dtype=float32),\n",
              " array([[1.]], dtype=float32),\n",
              " array([[1.]], dtype=float32),\n",
              " array([[1.]], dtype=float32),\n",
              " array([[1.]], dtype=float32),\n",
              " array([[1.]], dtype=float32),\n",
              " array([[1.]], dtype=float32),\n",
              " array([[1.]], dtype=float32),\n",
              " array([[1.]], dtype=float32),\n",
              " array([[0.]], dtype=float32),\n",
              " array([[1.]], dtype=float32),\n",
              " array([[1.]], dtype=float32),\n",
              " array([[1.]], dtype=float32)]"
            ]
          },
          "metadata": {
            "tags": []
          },
          "execution_count": 79
        }
      ]
    },
    {
      "cell_type": "markdown",
      "metadata": {
        "id": "Ib1JAW2nxjTE"
      },
      "source": [
        "* We now have 2 arrays containing the predicted values for the normal images and the pneumonia images. If we want we can further create an Dataframe to better visualize the result of these predictions."
      ],
      "id": "Ib1JAW2nxjTE"
    }
  ]
}